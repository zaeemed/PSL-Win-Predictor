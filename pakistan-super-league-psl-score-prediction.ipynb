{
 "cells": [
  {
   "cell_type": "markdown",
   "metadata": {
    "execution": {
     "iopub.execute_input": "2021-05-30T07:33:25.823624Z",
     "iopub.status.busy": "2021-05-30T07:33:25.823243Z",
     "iopub.status.idle": "2021-05-30T07:33:25.827785Z",
     "shell.execute_reply": "2021-05-30T07:33:25.827022Z",
     "shell.execute_reply.started": "2021-05-30T07:33:25.823536Z"
    }
   },
   "source": [
    "# Importing Libraries"
   ]
  },
  {
   "cell_type": "code",
   "execution_count": 4,
   "metadata": {
    "_cell_guid": "b1076dfc-b9ad-4769-8c92-a6c4dae69d19",
    "_uuid": "8f2839f25d086af736a60e9eeb907d3b93b6e0e5",
    "execution": {
     "iopub.execute_input": "2021-05-30T13:00:49.525012Z",
     "iopub.status.busy": "2021-05-30T13:00:49.524592Z",
     "iopub.status.idle": "2021-05-30T13:00:49.579466Z",
     "shell.execute_reply": "2021-05-30T13:00:49.578159Z",
     "shell.execute_reply.started": "2021-05-30T13:00:49.524979Z"
    }
   },
   "outputs": [
    {
     "ename": "ModuleNotFoundError",
     "evalue": "No module named 'xgboost'",
     "output_type": "error",
     "traceback": [
      "\u001b[1;31m---------------------------------------------------------------------------\u001b[0m",
      "\u001b[1;31mModuleNotFoundError\u001b[0m                       Traceback (most recent call last)",
      "\u001b[1;32m<ipython-input-4-317197739a80>\u001b[0m in \u001b[0;36m<module>\u001b[1;34m\u001b[0m\n\u001b[0;32m      9\u001b[0m \u001b[1;32mfrom\u001b[0m \u001b[0msklearn\u001b[0m\u001b[1;33m.\u001b[0m\u001b[0mmodel_selection\u001b[0m \u001b[1;32mimport\u001b[0m \u001b[0mtrain_test_split\u001b[0m\u001b[1;33m\u001b[0m\u001b[1;33m\u001b[0m\u001b[0m\n\u001b[0;32m     10\u001b[0m \u001b[1;32mfrom\u001b[0m \u001b[0msklearn\u001b[0m\u001b[1;33m.\u001b[0m\u001b[0mensemble\u001b[0m \u001b[1;32mimport\u001b[0m \u001b[0mRandomForestClassifier\u001b[0m\u001b[1;33m\u001b[0m\u001b[1;33m\u001b[0m\u001b[0m\n\u001b[1;32m---> 11\u001b[1;33m \u001b[1;32mimport\u001b[0m \u001b[0mxgboost\u001b[0m\u001b[1;33m\u001b[0m\u001b[1;33m\u001b[0m\u001b[0m\n\u001b[0m\u001b[0;32m     12\u001b[0m \u001b[1;32mfrom\u001b[0m \u001b[0msklearn\u001b[0m\u001b[1;33m.\u001b[0m\u001b[0mmetrics\u001b[0m \u001b[1;32mimport\u001b[0m \u001b[0maccuracy_score\u001b[0m\u001b[1;33m,\u001b[0m \u001b[0mconfusion_matrix\u001b[0m\u001b[1;33m,\u001b[0m \u001b[0mclassification_report\u001b[0m\u001b[1;33m\u001b[0m\u001b[1;33m\u001b[0m\u001b[0m\n\u001b[0;32m     13\u001b[0m \u001b[1;32mfrom\u001b[0m \u001b[0msklearn\u001b[0m\u001b[1;33m.\u001b[0m\u001b[0mmodel_selection\u001b[0m \u001b[1;32mimport\u001b[0m \u001b[0mRepeatedStratifiedKFold\u001b[0m\u001b[1;33m\u001b[0m\u001b[1;33m\u001b[0m\u001b[0m\n",
      "\u001b[1;31mModuleNotFoundError\u001b[0m: No module named 'xgboost'"
     ]
    }
   ],
   "source": [
    "# This Python 3 environment comes with many helpful analytics libraries installed\n",
    "# It is defined by the kaggle/python Docker image: https://github.com/kaggle/docker-python\n",
    "# For example, here's several helpful packages to load\n",
    "\n",
    "import pandas as pd # data processing, CSV file I/O (e.g. pd.read_csv)\n",
    "import numpy as np # linear algebra \n",
    "import math\n",
    "from sklearn import svm\n",
    "from sklearn.model_selection import train_test_split\n",
    "from sklearn.ensemble import RandomForestClassifier\n",
    "import xgboost\n",
    "from sklearn.metrics import accuracy_score, confusion_matrix, classification_report\n",
    "from sklearn.model_selection import RepeatedStratifiedKFold\n",
    "import time\n",
    "from sklearn.model_selection import cross_val_score\n",
    "import pickle\n",
    "\n",
    "# data visualization(for EDA)\n",
    "import matplotlib.pyplot as plt\n",
    "import seaborn as sns\n",
    "%matplotlib inline\n",
    "plt.style.use('ggplot')\n",
    "sns.set(color_codes=True)\n",
    "import plotly.express as px\n",
    "import cufflinks as cf\n",
    "cf.go_offline()\n",
    "cf.set_config_file(offline=False, world_readable=True)\n",
    "\n",
    "#ignore warnings\n",
    "import warnings\n",
    "warnings.filterwarnings('ignore')\n",
    "\n",
    "# Input data files are available in the read-only \"../input/\" directory\n",
    "# For example, running this (by clicking run or pressing Shift+Enter) will list all files under the input directory\n",
    "\n",
    "import os\n",
    "for dirname, _, filenames in os.walk('/kaggle/input'):\n",
    "    for filename in filenames:\n",
    "        print(os.path.join(dirname, filename))\n",
    "\n",
    "# You can write up to 20GB to the current directory (/kaggle/working/) that gets preserved as output when you create a version using \"Save & Run All\" \n",
    "# You can also write temporary files to /kaggle/temp/, but they won't be saved outside of the current session"
   ]
  },
  {
   "cell_type": "markdown",
   "metadata": {},
   "source": [
    "# Loading and Importing Data"
   ]
  },
  {
   "cell_type": "code",
   "execution_count": null,
   "metadata": {
    "execution": {
     "iopub.execute_input": "2021-05-30T12:27:36.073499Z",
     "iopub.status.busy": "2021-05-30T12:27:36.073028Z",
     "iopub.status.idle": "2021-05-30T12:27:36.164690Z",
     "shell.execute_reply": "2021-05-30T12:27:36.163641Z",
     "shell.execute_reply.started": "2021-05-30T12:27:36.073453Z"
    }
   },
   "outputs": [],
   "source": [
    "df = pd.read_csv('../input/pakistan-super-leaguepsl-ball-by-ball-20162020/psl_formated.csv')\n",
    "df.head()\n"
   ]
  },
  {
   "cell_type": "markdown",
   "metadata": {},
   "source": [
    "# Data preprocessing (Cleaning)"
   ]
  },
  {
   "cell_type": "code",
   "execution_count": null,
   "metadata": {
    "execution": {
     "iopub.execute_input": "2021-05-30T12:27:36.166339Z",
     "iopub.status.busy": "2021-05-30T12:27:36.166039Z",
     "iopub.status.idle": "2021-05-30T12:27:36.173942Z",
     "shell.execute_reply": "2021-05-30T12:27:36.172862Z",
     "shell.execute_reply.started": "2021-05-30T12:27:36.166308Z"
    }
   },
   "outputs": [],
   "source": [
    "df['wicket'].unique()"
   ]
  },
  {
   "cell_type": "code",
   "execution_count": null,
   "metadata": {
    "execution": {
     "iopub.execute_input": "2021-05-30T12:27:36.190606Z",
     "iopub.status.busy": "2021-05-30T12:27:36.190227Z",
     "iopub.status.idle": "2021-05-30T12:27:36.201143Z",
     "shell.execute_reply": "2021-05-30T12:27:36.200251Z",
     "shell.execute_reply.started": "2021-05-30T12:27:36.190575Z"
    }
   },
   "outputs": [],
   "source": [
    "df['wicket_text'].unique()"
   ]
  },
  {
   "cell_type": "code",
   "execution_count": null,
   "metadata": {
    "execution": {
     "iopub.execute_input": "2021-05-30T12:27:36.233148Z",
     "iopub.status.busy": "2021-05-30T12:27:36.232646Z",
     "iopub.status.idle": "2021-05-30T12:27:36.252839Z",
     "shell.execute_reply": "2021-05-30T12:27:36.252118Z",
     "shell.execute_reply.started": "2021-05-30T12:27:36.233116Z"
    }
   },
   "outputs": [],
   "source": [
    "df['wicket'].fillna(0,inplace = True)\n",
    "df.head()"
   ]
  },
  {
   "cell_type": "markdown",
   "metadata": {},
   "source": [
    "#### Hence, we replaced the nans in the 'wicket' column with 0."
   ]
  },
  {
   "cell_type": "markdown",
   "metadata": {},
   "source": [
    "# Boundaries Count"
   ]
  },
  {
   "cell_type": "code",
   "execution_count": null,
   "metadata": {
    "execution": {
     "iopub.execute_input": "2021-05-30T12:27:36.269190Z",
     "iopub.status.busy": "2021-05-30T12:27:36.268716Z",
     "iopub.status.idle": "2021-05-30T12:27:36.296676Z",
     "shell.execute_reply": "2021-05-30T12:27:36.295655Z",
     "shell.execute_reply.started": "2021-05-30T12:27:36.269160Z"
    }
   },
   "outputs": [],
   "source": [
    "boundries_df = df.groupby(['psl_year']).agg(\n",
    "    fours = ('is_four','sum'),\n",
    "    sixes = ('is_six','sum'),\n",
    "    matches = ('match_number','max')\n",
    "    \n",
    ")\n",
    "boundries_df = boundries_df.reset_index()\n",
    "boundries_df"
   ]
  },
  {
   "cell_type": "code",
   "execution_count": null,
   "metadata": {
    "execution": {
     "iopub.execute_input": "2021-05-30T12:27:36.298580Z",
     "iopub.status.busy": "2021-05-30T12:27:36.298272Z",
     "iopub.status.idle": "2021-05-30T12:27:36.478483Z",
     "shell.execute_reply": "2021-05-30T12:27:36.477567Z",
     "shell.execute_reply.started": "2021-05-30T12:27:36.298551Z"
    }
   },
   "outputs": [],
   "source": [
    "ax = boundries_df.plot('psl_year', 'fours', kind='bar')"
   ]
  },
  {
   "cell_type": "code",
   "execution_count": null,
   "metadata": {
    "execution": {
     "iopub.execute_input": "2021-05-30T12:27:36.480500Z",
     "iopub.status.busy": "2021-05-30T12:27:36.480182Z",
     "iopub.status.idle": "2021-05-30T12:27:36.682512Z",
     "shell.execute_reply": "2021-05-30T12:27:36.681336Z",
     "shell.execute_reply.started": "2021-05-30T12:27:36.480468Z"
    }
   },
   "outputs": [],
   "source": [
    "ax = boundries_df.plot('psl_year', 'sixes', kind='bar')"
   ]
  },
  {
   "cell_type": "code",
   "execution_count": null,
   "metadata": {
    "execution": {
     "iopub.execute_input": "2021-05-30T12:27:36.684909Z",
     "iopub.status.busy": "2021-05-30T12:27:36.684480Z",
     "iopub.status.idle": "2021-05-30T12:27:36.692200Z",
     "shell.execute_reply": "2021-05-30T12:27:36.691211Z",
     "shell.execute_reply.started": "2021-05-30T12:27:36.684863Z"
    }
   },
   "outputs": [],
   "source": [
    "boundries_df['fours_per_match'] = boundries_df['fours']/boundries_df['matches']\n",
    "boundries_df['six_per_match'] = boundries_df['sixes']/boundries_df['matches']"
   ]
  },
  {
   "cell_type": "code",
   "execution_count": null,
   "metadata": {
    "execution": {
     "iopub.execute_input": "2021-05-30T12:27:36.693836Z",
     "iopub.status.busy": "2021-05-30T12:27:36.693526Z",
     "iopub.status.idle": "2021-05-30T12:27:36.899320Z",
     "shell.execute_reply": "2021-05-30T12:27:36.898056Z",
     "shell.execute_reply.started": "2021-05-30T12:27:36.693806Z"
    }
   },
   "outputs": [],
   "source": [
    "ax = boundries_df.plot('psl_year', 'fours_per_match', kind='bar')"
   ]
  },
  {
   "cell_type": "code",
   "execution_count": null,
   "metadata": {
    "execution": {
     "iopub.execute_input": "2021-05-30T12:27:36.901016Z",
     "iopub.status.busy": "2021-05-30T12:27:36.900694Z",
     "iopub.status.idle": "2021-05-30T12:27:37.091076Z",
     "shell.execute_reply": "2021-05-30T12:27:37.089844Z",
     "shell.execute_reply.started": "2021-05-30T12:27:36.900982Z"
    }
   },
   "outputs": [],
   "source": [
    "ax = boundries_df.plot('psl_year', 'six_per_match', kind='bar')"
   ]
  },
  {
   "cell_type": "markdown",
   "metadata": {},
   "source": [
    "#### In this section we found the following insights:\n",
    "- Most fours and fours per match were scored in 2019.\n",
    "- Most sixes and sixes per match were scored in 2018."
   ]
  },
  {
   "cell_type": "markdown",
   "metadata": {},
   "source": [
    "# Wickets"
   ]
  },
  {
   "cell_type": "code",
   "execution_count": null,
   "metadata": {
    "execution": {
     "iopub.execute_input": "2021-05-30T12:27:37.094882Z",
     "iopub.status.busy": "2021-05-30T12:27:37.094513Z",
     "iopub.status.idle": "2021-05-30T12:27:37.108026Z",
     "shell.execute_reply": "2021-05-30T12:27:37.106996Z",
     "shell.execute_reply.started": "2021-05-30T12:27:37.094850Z"
    }
   },
   "outputs": [],
   "source": [
    "wickets = df['wicket_text'].value_counts()\n",
    "wicket_dict = dict(wickets)\n",
    "del_keys = []\n",
    "others = 0\n",
    "for key, value in wicket_dict.items():\n",
    "    if value <100:\n",
    "        others = others+value\n",
    "        del_keys.append(key)\n",
    "for del_key in del_keys:\n",
    "    del(wicket_dict[del_key])\n",
    "wicket_dict['others']= others\n",
    "wicket_dict"
   ]
  },
  {
   "cell_type": "code",
   "execution_count": null,
   "metadata": {
    "execution": {
     "iopub.execute_input": "2021-05-30T12:27:37.110162Z",
     "iopub.status.busy": "2021-05-30T12:27:37.109848Z",
     "iopub.status.idle": "2021-05-30T12:27:37.269489Z",
     "shell.execute_reply": "2021-05-30T12:27:37.268737Z",
     "shell.execute_reply.started": "2021-05-30T12:27:37.110133Z"
    }
   },
   "outputs": [],
   "source": [
    "plt.bar(*zip(*wicket_dict.items()))"
   ]
  },
  {
   "cell_type": "markdown",
   "metadata": {},
   "source": [
    "#### Here, we found an interesting fact that most of the players lost their wickets by getting caught."
   ]
  },
  {
   "cell_type": "markdown",
   "metadata": {},
   "source": [
    "# Team Based Dataframes"
   ]
  },
  {
   "cell_type": "code",
   "execution_count": null,
   "metadata": {
    "execution": {
     "iopub.execute_input": "2021-05-30T12:27:37.271095Z",
     "iopub.status.busy": "2021-05-30T12:27:37.270621Z",
     "iopub.status.idle": "2021-05-30T12:27:37.356457Z",
     "shell.execute_reply": "2021-05-30T12:27:37.355665Z",
     "shell.execute_reply.started": "2021-05-30T12:27:37.271045Z"
    }
   },
   "outputs": [],
   "source": [
    "teams_df = {'Quetta' : df.loc[((df['team_1'] == \"Quetta Gladiators\") & (df['inning'] == 1)) | ((df['team_2'] == \"Quetta Gladiators\") & (df['inning'] == 2))],\n",
    "'Lahore' : df.loc[((df['team_1'] == \"Lahore Qalandars\") & (df['inning'] == 1)) | ((df['team_2'] == \"Lahore Qalandars\") & (df['inning'] == 2))],\n",
    "'Islamabad' : df.loc[((df['team_1'] == \"Islamabad United\") & (df['inning'] == 1)) | ((df['team_2'] == \"Islamabad United\") & (df['inning'] == 2))],\n",
    "'Peshawar' : df.loc[((df['team_1'] == \"Peshawar Zalmi\") & (df['inning'] == 1)) | ((df['team_2'] == \"Peshawar Zalmi\") & (df['inning'] == 2))],\n",
    "'Multan' : df.loc[((df['team_1'] == \"Multan Sultans\") & (df['inning'] == 1)) | ((df['team_2'] == \"Multan Sultans\") & (df['inning'] == 2))],\n",
    "'Karachi' : df.loc[((df['team_1'] == \"Karachi Kings\") & (df['inning'] == 1)) | ((df['team_2'] == \"Karachi Kings\") & (df['inning'] == 2))]\n",
    "}"
   ]
  },
  {
   "cell_type": "markdown",
   "metadata": {},
   "source": [
    "# Team Based Runs"
   ]
  },
  {
   "cell_type": "code",
   "execution_count": null,
   "metadata": {
    "execution": {
     "iopub.execute_input": "2021-05-30T12:27:37.358105Z",
     "iopub.status.busy": "2021-05-30T12:27:37.357660Z",
     "iopub.status.idle": "2021-05-30T12:27:37.371760Z",
     "shell.execute_reply": "2021-05-30T12:27:37.370992Z",
     "shell.execute_reply.started": "2021-05-30T12:27:37.358056Z"
    }
   },
   "outputs": [],
   "source": [
    "team_runs = {}\n",
    "for team_name, value in teams_df.items():\n",
    "    team_runs[team_name] = value['runs'].sum()\n",
    "team_matches = {}\n",
    "for team_name , value in teams_df.items():\n",
    "    team_matches[team_name] = value.groupby(['psl_year', 'match_number']).ngroups"
   ]
  },
  {
   "cell_type": "code",
   "execution_count": null,
   "metadata": {
    "execution": {
     "iopub.execute_input": "2021-05-30T12:27:37.373371Z",
     "iopub.status.busy": "2021-05-30T12:27:37.372902Z",
     "iopub.status.idle": "2021-05-30T12:27:37.539222Z",
     "shell.execute_reply": "2021-05-30T12:27:37.538130Z",
     "shell.execute_reply.started": "2021-05-30T12:27:37.373309Z"
    }
   },
   "outputs": [],
   "source": [
    "plt.bar(*zip(*team_runs.items()))"
   ]
  },
  {
   "cell_type": "markdown",
   "metadata": {},
   "source": [
    "#### Among all the teams Peshawar scored the most runs, followed by Islamabad United."
   ]
  },
  {
   "cell_type": "markdown",
   "metadata": {},
   "source": [
    "# Team Based Percentage Runs in Boundaries"
   ]
  },
  {
   "cell_type": "code",
   "execution_count": null,
   "metadata": {
    "execution": {
     "iopub.execute_input": "2021-05-30T12:27:37.541203Z",
     "iopub.status.busy": "2021-05-30T12:27:37.540771Z",
     "iopub.status.idle": "2021-05-30T12:27:37.549965Z",
     "shell.execute_reply": "2021-05-30T12:27:37.548844Z",
     "shell.execute_reply.started": "2021-05-30T12:27:37.541157Z"
    }
   },
   "outputs": [],
   "source": [
    "team_boundry_runs = {}\n",
    "for team_name, value in teams_df.items():\n",
    "    sixes = value['is_six'].sum()\n",
    "    fours = value['is_four'].sum()\n",
    "    team_boundry_runs[team_name]= (sixes*6)+(fours*4)\n",
    "\n",
    "boundry_run_percentage = {}\n",
    "for team, runs in team_runs.items():\n",
    "#     print (f\"{team} scored {(team_boundry_runs[team]/runs)*100}% runs in boundries\")\n",
    "    boundry_run_percentage[team] = (team_boundry_runs[team]/runs)*100"
   ]
  },
  {
   "cell_type": "code",
   "execution_count": null,
   "metadata": {
    "execution": {
     "iopub.execute_input": "2021-05-30T12:27:37.551606Z",
     "iopub.status.busy": "2021-05-30T12:27:37.551264Z",
     "iopub.status.idle": "2021-05-30T12:27:37.734393Z",
     "shell.execute_reply": "2021-05-30T12:27:37.733377Z",
     "shell.execute_reply.started": "2021-05-30T12:27:37.551574Z"
    }
   },
   "outputs": [],
   "source": [
    "plt.bar(*zip(*boundry_run_percentage.items()))"
   ]
  },
  {
   "cell_type": "markdown",
   "metadata": {},
   "source": [
    "#### This bar chart shows that Islamabad United dealt more in boundaries to score the runs."
   ]
  },
  {
   "cell_type": "markdown",
   "metadata": {},
   "source": [
    "# Dot Balls Played"
   ]
  },
  {
   "cell_type": "code",
   "execution_count": null,
   "metadata": {
    "execution": {
     "iopub.execute_input": "2021-05-30T12:27:37.736301Z",
     "iopub.status.busy": "2021-05-30T12:27:37.735986Z",
     "iopub.status.idle": "2021-05-30T12:27:37.750370Z",
     "shell.execute_reply": "2021-05-30T12:27:37.749021Z",
     "shell.execute_reply.started": "2021-05-30T12:27:37.736272Z"
    }
   },
   "outputs": [],
   "source": [
    "dot_balls_played = {}\n",
    "total_balls_played = {}\n",
    "for team, value in teams_df.items():\n",
    "    dot_balls_played[team]=value[value['runs']==0].shape[0]\n",
    "    total_balls_played[team]= value.shape[0]\n",
    "\n",
    "dot_ball_percentage ={}\n",
    "for team , value in dot_balls_played.items():\n",
    "    dot_ball_percentage[team] = (value/total_balls_played[team])*100\n",
    "\n",
    "# for team , value in dot_ball_percentage.items():\n",
    "#     print (f\"Team : {team} played {math.trunc(value)}% of dot balls\")"
   ]
  },
  {
   "cell_type": "code",
   "execution_count": null,
   "metadata": {
    "execution": {
     "iopub.execute_input": "2021-05-30T12:27:37.751987Z",
     "iopub.status.busy": "2021-05-30T12:27:37.751666Z",
     "iopub.status.idle": "2021-05-30T12:27:37.936892Z",
     "shell.execute_reply": "2021-05-30T12:27:37.936091Z",
     "shell.execute_reply.started": "2021-05-30T12:27:37.751955Z"
    }
   },
   "outputs": [],
   "source": [
    "plt.bar(*zip(*dot_ball_percentage.items()))"
   ]
  },
  {
   "cell_type": "markdown",
   "metadata": {},
   "source": [
    "#### Here, it shows that Lahore Qalanders played the most Dot balls."
   ]
  },
  {
   "cell_type": "markdown",
   "metadata": {},
   "source": [
    "# Six Hit Per Team"
   ]
  },
  {
   "cell_type": "code",
   "execution_count": null,
   "metadata": {
    "execution": {
     "iopub.execute_input": "2021-05-30T12:27:37.938370Z",
     "iopub.status.busy": "2021-05-30T12:27:37.937939Z",
     "iopub.status.idle": "2021-05-30T12:27:38.340920Z",
     "shell.execute_reply": "2021-05-30T12:27:38.340133Z",
     "shell.execute_reply.started": "2021-05-30T12:27:37.938323Z"
    }
   },
   "outputs": [],
   "source": [
    "six_per_team = {}\n",
    "for team, value in teams_df.items():\n",
    "    six_per_team[team] = value['is_six'].sum()\n",
    "\n",
    "six_per_match ={}\n",
    "for team ,value in six_per_team.items():\n",
    "    six_per_match[team] = value/team_matches[team]\n",
    "\n",
    "plt.bar(*zip(*six_per_match.items()))"
   ]
  },
  {
   "cell_type": "markdown",
   "metadata": {},
   "source": [
    "#### Talking about sixes hit by the teams, Islamabad United placed the most sixes per match."
   ]
  },
  {
   "cell_type": "code",
   "execution_count": null,
   "metadata": {
    "execution": {
     "iopub.execute_input": "2021-05-30T12:27:38.342452Z",
     "iopub.status.busy": "2021-05-30T12:27:38.342017Z",
     "iopub.status.idle": "2021-05-30T12:27:38.519910Z",
     "shell.execute_reply": "2021-05-30T12:27:38.519119Z",
     "shell.execute_reply.started": "2021-05-30T12:27:38.342407Z"
    }
   },
   "outputs": [],
   "source": [
    "plt.bar(*zip(*six_per_team.items()))"
   ]
  },
  {
   "cell_type": "markdown",
   "metadata": {},
   "source": [
    "#### Talking about sixes hit by the teams, Peshawar Zalmi placed the most sixes per team."
   ]
  },
  {
   "cell_type": "markdown",
   "metadata": {},
   "source": [
    "# Four Hit Per Team"
   ]
  },
  {
   "cell_type": "code",
   "execution_count": null,
   "metadata": {
    "execution": {
     "iopub.execute_input": "2021-05-30T12:27:38.521708Z",
     "iopub.status.busy": "2021-05-30T12:27:38.521212Z",
     "iopub.status.idle": "2021-05-30T12:27:38.687080Z",
     "shell.execute_reply": "2021-05-30T12:27:38.686387Z",
     "shell.execute_reply.started": "2021-05-30T12:27:38.521660Z"
    }
   },
   "outputs": [],
   "source": [
    "four_per_team = {}\n",
    "for team, value in teams_df.items():\n",
    "    four_per_team[team] = value['is_four'].sum()\n",
    "\n",
    "four_per_match ={}\n",
    "for team ,value in four_per_team.items():\n",
    "    four_per_match[team] = value/team_matches[team]\n",
    "\n",
    "plt.bar(*zip(*four_per_match.items()))"
   ]
  },
  {
   "cell_type": "markdown",
   "metadata": {},
   "source": [
    "#### It seems a coincidence that all the teams scored almost similar number of fours per match."
   ]
  },
  {
   "cell_type": "markdown",
   "metadata": {},
   "source": [
    "# Runs Scored Per Team"
   ]
  },
  {
   "cell_type": "code",
   "execution_count": null,
   "metadata": {
    "execution": {
     "iopub.execute_input": "2021-05-30T12:27:38.691103Z",
     "iopub.status.busy": "2021-05-30T12:27:38.690636Z",
     "iopub.status.idle": "2021-05-30T12:27:38.861242Z",
     "shell.execute_reply": "2021-05-30T12:27:38.860424Z",
     "shell.execute_reply.started": "2021-05-30T12:27:38.691049Z"
    }
   },
   "outputs": [],
   "source": [
    "runs_per_team = {}\n",
    "for team, value in teams_df.items():\n",
    "    runs_per_team[team] = value['runs'].sum()\n",
    "\n",
    "runs_per_match ={}\n",
    "for team ,value in runs_per_team.items():\n",
    "    runs_per_match[team] = value/team_matches[team]\n",
    "\n",
    "plt.bar(*zip(*runs_per_match.items()))"
   ]
  },
  {
   "cell_type": "markdown",
   "metadata": {},
   "source": [
    "#### Here, again it seems that all the teams scored almost similar number of runs per match."
   ]
  },
  {
   "cell_type": "markdown",
   "metadata": {},
   "source": [
    "# Wickets Per Team"
   ]
  },
  {
   "cell_type": "code",
   "execution_count": null,
   "metadata": {
    "execution": {
     "iopub.execute_input": "2021-05-30T12:27:38.863517Z",
     "iopub.status.busy": "2021-05-30T12:27:38.863040Z",
     "iopub.status.idle": "2021-05-30T12:27:39.039285Z",
     "shell.execute_reply": "2021-05-30T12:27:39.038592Z",
     "shell.execute_reply.started": "2021-05-30T12:27:38.863472Z"
    }
   },
   "outputs": [],
   "source": [
    "wickets_per_team = {}\n",
    "for team, value in teams_df.items():\n",
    "    wickets_per_team[team] = value['is_wicket'].sum()\n",
    "\n",
    "wickets_per_match ={}\n",
    "for team ,value in wickets_per_team.items():\n",
    "    wickets_per_match[team] = value/team_matches[team]\n",
    "\n",
    "plt.bar(*zip(*wickets_per_team.items()))"
   ]
  },
  {
   "cell_type": "markdown",
   "metadata": {},
   "source": [
    "#### The above barchart shows that, Peshawar Zalmi had the most wickets being fallen per team."
   ]
  },
  {
   "cell_type": "code",
   "execution_count": null,
   "metadata": {
    "execution": {
     "iopub.execute_input": "2021-05-30T12:27:39.040819Z",
     "iopub.status.busy": "2021-05-30T12:27:39.040385Z",
     "iopub.status.idle": "2021-05-30T12:27:39.210250Z",
     "shell.execute_reply": "2021-05-30T12:27:39.209463Z",
     "shell.execute_reply.started": "2021-05-30T12:27:39.040775Z"
    }
   },
   "outputs": [],
   "source": [
    "plt.bar(*zip(*wickets_per_match.items()))"
   ]
  },
  {
   "cell_type": "markdown",
   "metadata": {},
   "source": [
    "#### Her the above barchart shows that, Lahore Qalanders had the most wickets being fallen per match."
   ]
  },
  {
   "cell_type": "markdown",
   "metadata": {},
   "source": [
    "# Defining Functions to bulit Prediction Model"
   ]
  },
  {
   "cell_type": "code",
   "execution_count": null,
   "metadata": {
    "execution": {
     "iopub.execute_input": "2021-05-30T12:27:39.211877Z",
     "iopub.status.busy": "2021-05-30T12:27:39.211423Z",
     "iopub.status.idle": "2021-05-30T12:27:39.216002Z",
     "shell.execute_reply": "2021-05-30T12:27:39.215256Z",
     "shell.execute_reply.started": "2021-05-30T12:27:39.211830Z"
    }
   },
   "outputs": [],
   "source": [
    "# Method to calculate if the team batting second won or not\n",
    "def is_winner(row):\n",
    "    if type(row['result']) == str:\n",
    "        if row['result'] in row['team_2']:\n",
    "            return 1\n",
    "        return 0\n",
    "    else:\n",
    "        return 0"
   ]
  },
  {
   "cell_type": "code",
   "execution_count": null,
   "metadata": {
    "execution": {
     "iopub.execute_input": "2021-05-30T12:27:39.217472Z",
     "iopub.status.busy": "2021-05-30T12:27:39.217036Z",
     "iopub.status.idle": "2021-05-30T12:27:39.232392Z",
     "shell.execute_reply": "2021-05-30T12:27:39.231232Z",
     "shell.execute_reply.started": "2021-05-30T12:27:39.217428Z"
    }
   },
   "outputs": [],
   "source": [
    "# Method to calculate if a player was dismissed on this ball or not\n",
    "def is_out(row):\n",
    "    if type(row['player_dismissed']) == str:\n",
    "        return 1\n",
    "    else:\n",
    "        return 0"
   ]
  },
  {
   "cell_type": "markdown",
   "metadata": {},
   "source": [
    "# Data Manipulation to Extract Important Features"
   ]
  },
  {
   "cell_type": "code",
   "execution_count": null,
   "metadata": {
    "execution": {
     "iopub.execute_input": "2021-05-30T12:27:39.234019Z",
     "iopub.status.busy": "2021-05-30T12:27:39.233728Z",
     "iopub.status.idle": "2021-05-30T12:27:39.257432Z",
     "shell.execute_reply": "2021-05-30T12:27:39.256112Z",
     "shell.execute_reply.started": "2021-05-30T12:27:39.233992Z"
    }
   },
   "outputs": [],
   "source": [
    "# Splitting on Innings\n",
    "first_inning = df[df['inning']==1]\n",
    "second_inning = df[df['inning']==2]"
   ]
  },
  {
   "cell_type": "code",
   "execution_count": null,
   "metadata": {
    "execution": {
     "iopub.execute_input": "2021-05-30T12:27:39.259745Z",
     "iopub.status.busy": "2021-05-30T12:27:39.258957Z",
     "iopub.status.idle": "2021-05-30T12:27:39.279776Z",
     "shell.execute_reply": "2021-05-30T12:27:39.278289Z",
     "shell.execute_reply.started": "2021-05-30T12:27:39.259706Z"
    }
   },
   "outputs": [],
   "source": [
    "# Calculating Target\n",
    "total_sum = first_inning.groupby([\"psl_year\",\"match_number\"]).agg(\n",
    "   target= (\"runs\",\"sum\")\n",
    ")"
   ]
  },
  {
   "cell_type": "code",
   "execution_count": null,
   "metadata": {
    "execution": {
     "iopub.execute_input": "2021-05-30T12:27:39.281793Z",
     "iopub.status.busy": "2021-05-30T12:27:39.281447Z",
     "iopub.status.idle": "2021-05-30T12:27:39.288481Z",
     "shell.execute_reply": "2021-05-30T12:27:39.287384Z",
     "shell.execute_reply.started": "2021-05-30T12:27:39.281759Z"
    }
   },
   "outputs": [],
   "source": [
    "total_sum = total_sum.reset_index()"
   ]
  },
  {
   "cell_type": "code",
   "execution_count": null,
   "metadata": {
    "execution": {
     "iopub.execute_input": "2021-05-30T12:27:39.289935Z",
     "iopub.status.busy": "2021-05-30T12:27:39.289622Z",
     "iopub.status.idle": "2021-05-30T12:27:39.317232Z",
     "shell.execute_reply": "2021-05-30T12:27:39.316251Z",
     "shell.execute_reply.started": "2021-05-30T12:27:39.289905Z"
    }
   },
   "outputs": [],
   "source": [
    "# Merging the DF\n",
    "new_df = pd.merge(total_sum, second_inning,  how='left', left_on=['psl_year','match_number'], right_on = ['psl_year','match_number'])"
   ]
  },
  {
   "cell_type": "code",
   "execution_count": null,
   "metadata": {
    "execution": {
     "iopub.execute_input": "2021-05-30T12:27:39.318915Z",
     "iopub.status.busy": "2021-05-30T12:27:39.318613Z",
     "iopub.status.idle": "2021-05-30T12:27:39.722753Z",
     "shell.execute_reply": "2021-05-30T12:27:39.718760Z",
     "shell.execute_reply.started": "2021-05-30T12:27:39.318885Z"
    }
   },
   "outputs": [],
   "source": [
    "# Calculating if Second Inning team won or not \n",
    "new_df['won'] = new_df.apply(is_winner, axis=1)"
   ]
  },
  {
   "cell_type": "code",
   "execution_count": null,
   "metadata": {
    "execution": {
     "iopub.execute_input": "2021-05-30T12:27:39.724883Z",
     "iopub.status.busy": "2021-05-30T12:27:39.724411Z",
     "iopub.status.idle": "2021-05-30T12:27:39.734972Z",
     "shell.execute_reply": "2021-05-30T12:27:39.733609Z",
     "shell.execute_reply.started": "2021-05-30T12:27:39.724834Z"
    }
   },
   "outputs": [],
   "source": [
    "# Calculating balls left\n",
    "new_df['balls_left'] = 120-(((new_df['over']-1)*6)+new_df['ball'])"
   ]
  },
  {
   "cell_type": "code",
   "execution_count": null,
   "metadata": {
    "execution": {
     "iopub.execute_input": "2021-05-30T12:27:39.737269Z",
     "iopub.status.busy": "2021-05-30T12:27:39.736792Z",
     "iopub.status.idle": "2021-05-30T12:27:39.750412Z",
     "shell.execute_reply": "2021-05-30T12:27:39.748609Z",
     "shell.execute_reply.started": "2021-05-30T12:27:39.737228Z"
    }
   },
   "outputs": [],
   "source": [
    "# Creating the Final Dataset\n",
    "final_df = new_df[['over','ball','total_runs','wickets','target','balls_left','won']]"
   ]
  },
  {
   "cell_type": "code",
   "execution_count": null,
   "metadata": {
    "execution": {
     "iopub.execute_input": "2021-05-30T12:27:39.752888Z",
     "iopub.status.busy": "2021-05-30T12:27:39.752284Z",
     "iopub.status.idle": "2021-05-30T12:27:39.772032Z",
     "shell.execute_reply": "2021-05-30T12:27:39.770798Z",
     "shell.execute_reply.started": "2021-05-30T12:27:39.752841Z"
    }
   },
   "outputs": [],
   "source": [
    "final_df.head()"
   ]
  },
  {
   "cell_type": "code",
   "execution_count": null,
   "metadata": {
    "execution": {
     "iopub.execute_input": "2021-05-30T12:27:39.773895Z",
     "iopub.status.busy": "2021-05-30T12:27:39.773505Z",
     "iopub.status.idle": "2021-05-30T12:27:39.780892Z",
     "shell.execute_reply": "2021-05-30T12:27:39.779616Z",
     "shell.execute_reply.started": "2021-05-30T12:27:39.773862Z"
    }
   },
   "outputs": [],
   "source": [
    "final_df['runs_left'] = final_df['target']- final_df['total_runs']"
   ]
  },
  {
   "cell_type": "markdown",
   "metadata": {},
   "source": [
    "# Selecting particular columns for our model"
   ]
  },
  {
   "cell_type": "code",
   "execution_count": null,
   "metadata": {
    "execution": {
     "iopub.execute_input": "2021-05-30T12:27:39.783205Z",
     "iopub.status.busy": "2021-05-30T12:27:39.782762Z",
     "iopub.status.idle": "2021-05-30T12:27:39.792746Z",
     "shell.execute_reply": "2021-05-30T12:27:39.791668Z",
     "shell.execute_reply.started": "2021-05-30T12:27:39.783158Z"
    }
   },
   "outputs": [],
   "source": [
    "new_cols =['wickets','balls_left','runs_left','won']"
   ]
  },
  {
   "cell_type": "code",
   "execution_count": null,
   "metadata": {
    "execution": {
     "iopub.execute_input": "2021-05-30T12:27:39.794301Z",
     "iopub.status.busy": "2021-05-30T12:27:39.793997Z",
     "iopub.status.idle": "2021-05-30T12:27:39.820802Z",
     "shell.execute_reply": "2021-05-30T12:27:39.819712Z",
     "shell.execute_reply.started": "2021-05-30T12:27:39.794270Z"
    }
   },
   "outputs": [],
   "source": [
    "psl_df = final_df[new_cols]\n",
    "psl_df.head()"
   ]
  },
  {
   "cell_type": "code",
   "execution_count": null,
   "metadata": {
    "execution": {
     "iopub.execute_input": "2021-05-30T12:27:39.824515Z",
     "iopub.status.busy": "2021-05-30T12:27:39.824188Z",
     "iopub.status.idle": "2021-05-30T12:27:39.835629Z",
     "shell.execute_reply": "2021-05-30T12:27:39.834596Z",
     "shell.execute_reply.started": "2021-05-30T12:27:39.824484Z"
    }
   },
   "outputs": [],
   "source": [
    "psl_df.isnull().sum()"
   ]
  },
  {
   "cell_type": "code",
   "execution_count": null,
   "metadata": {
    "execution": {
     "iopub.execute_input": "2021-05-30T12:27:39.837268Z",
     "iopub.status.busy": "2021-05-30T12:27:39.836904Z",
     "iopub.status.idle": "2021-05-30T12:27:39.843373Z",
     "shell.execute_reply": "2021-05-30T12:27:39.842325Z",
     "shell.execute_reply.started": "2021-05-30T12:27:39.837239Z"
    }
   },
   "outputs": [],
   "source": [
    "psl_df.shape"
   ]
  },
  {
   "cell_type": "code",
   "execution_count": null,
   "metadata": {
    "execution": {
     "iopub.execute_input": "2021-05-30T12:32:19.407578Z",
     "iopub.status.busy": "2021-05-30T12:32:19.407069Z",
     "iopub.status.idle": "2021-05-30T12:32:19.420511Z",
     "shell.execute_reply": "2021-05-30T12:32:19.419457Z",
     "shell.execute_reply.started": "2021-05-30T12:32:19.407533Z"
    }
   },
   "outputs": [],
   "source": [
    "psl_df = psl_df.apply (pd.to_numeric, errors='coerce')\n",
    "psl_df = psl_df.dropna()"
   ]
  },
  {
   "cell_type": "code",
   "execution_count": null,
   "metadata": {
    "execution": {
     "iopub.execute_input": "2021-05-30T12:31:18.871040Z",
     "iopub.status.busy": "2021-05-30T12:31:18.870541Z",
     "iopub.status.idle": "2021-05-30T12:31:18.876621Z",
     "shell.execute_reply": "2021-05-30T12:31:18.875628Z",
     "shell.execute_reply.started": "2021-05-30T12:31:18.871008Z"
    }
   },
   "outputs": [],
   "source": [
    "psl_df.shape"
   ]
  },
  {
   "cell_type": "code",
   "execution_count": null,
   "metadata": {
    "execution": {
     "iopub.execute_input": "2021-05-30T12:31:18.890392Z",
     "iopub.status.busy": "2021-05-30T12:31:18.889961Z",
     "iopub.status.idle": "2021-05-30T12:31:18.896482Z",
     "shell.execute_reply": "2021-05-30T12:31:18.895305Z",
     "shell.execute_reply.started": "2021-05-30T12:31:18.890330Z"
    }
   },
   "outputs": [],
   "source": [
    "# X and Y Split\n",
    "y = psl_df.iloc[:,3]\n",
    "X = psl_df.iloc[:,:3]"
   ]
  },
  {
   "cell_type": "code",
   "execution_count": null,
   "metadata": {
    "execution": {
     "iopub.execute_input": "2021-05-30T12:31:18.912678Z",
     "iopub.status.busy": "2021-05-30T12:31:18.912259Z",
     "iopub.status.idle": "2021-05-30T12:31:18.921909Z",
     "shell.execute_reply": "2021-05-30T12:31:18.920744Z",
     "shell.execute_reply.started": "2021-05-30T12:31:18.912644Z"
    }
   },
   "outputs": [],
   "source": [
    "# Train and Test Split\n",
    "X_train, X_test, y_train, y_test = train_test_split(X,y,test_size=0.2,random_state = 42)"
   ]
  },
  {
   "cell_type": "markdown",
   "metadata": {},
   "source": [
    "# Making predictions with Random Forest Classifier"
   ]
  },
  {
   "cell_type": "code",
   "execution_count": null,
   "metadata": {
    "execution": {
     "iopub.execute_input": "2021-05-30T12:31:18.938510Z",
     "iopub.status.busy": "2021-05-30T12:31:18.938077Z",
     "iopub.status.idle": "2021-05-30T12:32:14.108199Z",
     "shell.execute_reply": "2021-05-30T12:32:14.106838Z",
     "shell.execute_reply.started": "2021-05-30T12:31:18.938472Z"
    }
   },
   "outputs": [],
   "source": [
    "# Training Model\n",
    "start = time.time()\n",
    "RF = RandomForestClassifier(n_estimators = 10000, max_depth=6, random_state=0)\n",
    "RF.fit(X_train, y_train)\n",
    "print(f\"Time Taken to Train {time.time()-start} seconds\")"
   ]
  },
  {
   "cell_type": "code",
   "execution_count": null,
   "metadata": {
    "execution": {
     "iopub.execute_input": "2021-05-30T12:32:14.110177Z",
     "iopub.status.busy": "2021-05-30T12:32:14.109852Z",
     "iopub.status.idle": "2021-05-30T12:32:17.787790Z",
     "shell.execute_reply": "2021-05-30T12:32:17.786732Z",
     "shell.execute_reply.started": "2021-05-30T12:32:14.110143Z"
    }
   },
   "outputs": [],
   "source": [
    "y_pred_test = RF.predict(X_test)"
   ]
  },
  {
   "cell_type": "code",
   "execution_count": null,
   "metadata": {
    "execution": {
     "iopub.execute_input": "2021-05-30T12:32:17.789762Z",
     "iopub.status.busy": "2021-05-30T12:32:17.789454Z",
     "iopub.status.idle": "2021-05-30T12:32:17.795327Z",
     "shell.execute_reply": "2021-05-30T12:32:17.794624Z",
     "shell.execute_reply.started": "2021-05-30T12:32:17.789729Z"
    }
   },
   "outputs": [],
   "source": [
    "accuracy_score(y_test, y_pred_test)"
   ]
  },
  {
   "cell_type": "code",
   "execution_count": null,
   "metadata": {
    "execution": {
     "iopub.execute_input": "2021-05-30T12:32:17.797912Z",
     "iopub.status.busy": "2021-05-30T12:32:17.797242Z",
     "iopub.status.idle": "2021-05-30T12:32:19.004437Z",
     "shell.execute_reply": "2021-05-30T12:32:19.003228Z",
     "shell.execute_reply.started": "2021-05-30T12:32:17.797866Z"
    }
   },
   "outputs": [],
   "source": [
    "current= {\n",
    "    \"wickets\":1,\n",
    "    \"balls_left\" :105,\n",
    "    \"runs_left\":137\n",
    "}\n",
    "current_df = pd.DataFrame(current,index=[0])\n",
    "RF.predict_proba(current_df)"
   ]
  },
  {
   "cell_type": "markdown",
   "metadata": {},
   "source": [
    "# Making predictions with XGBoost Classifier"
   ]
  },
  {
   "cell_type": "code",
   "execution_count": null,
   "metadata": {
    "execution": {
     "iopub.execute_input": "2021-05-30T12:32:19.006128Z",
     "iopub.status.busy": "2021-05-30T12:32:19.005825Z",
     "iopub.status.idle": "2021-05-30T12:32:19.353744Z",
     "shell.execute_reply": "2021-05-30T12:32:19.352744Z",
     "shell.execute_reply.started": "2021-05-30T12:32:19.006100Z"
    }
   },
   "outputs": [],
   "source": [
    "XGBC = xgboost.XGBClassifier()\n",
    "XGBC.fit(X_train, y_train)"
   ]
  },
  {
   "cell_type": "code",
   "execution_count": null,
   "metadata": {
    "execution": {
     "iopub.execute_input": "2021-05-30T12:32:19.355369Z",
     "iopub.status.busy": "2021-05-30T12:32:19.355066Z",
     "iopub.status.idle": "2021-05-30T12:32:19.378884Z",
     "shell.execute_reply": "2021-05-30T12:32:19.377808Z",
     "shell.execute_reply.started": "2021-05-30T12:32:19.355324Z"
    }
   },
   "outputs": [],
   "source": [
    "y_pred = XGBC.predict(X_test)\n",
    "predictions = [round(value) for value in y_pred]"
   ]
  },
  {
   "cell_type": "code",
   "execution_count": null,
   "metadata": {
    "execution": {
     "iopub.execute_input": "2021-05-30T12:32:19.380671Z",
     "iopub.status.busy": "2021-05-30T12:32:19.380316Z",
     "iopub.status.idle": "2021-05-30T12:32:19.388645Z",
     "shell.execute_reply": "2021-05-30T12:32:19.387685Z",
     "shell.execute_reply.started": "2021-05-30T12:32:19.380638Z"
    }
   },
   "outputs": [],
   "source": [
    "# evaluate predictions\n",
    "accuracy = accuracy_score(y_test, predictions)\n",
    "print(\"Accuracy: %.2f%%\" % (accuracy * 100.0))"
   ]
  },
  {
   "cell_type": "code",
   "execution_count": null,
   "metadata": {
    "execution": {
     "iopub.execute_input": "2021-05-30T12:32:19.391167Z",
     "iopub.status.busy": "2021-05-30T12:32:19.390808Z",
     "iopub.status.idle": "2021-05-30T12:32:19.405411Z",
     "shell.execute_reply": "2021-05-30T12:32:19.404224Z",
     "shell.execute_reply.started": "2021-05-30T12:32:19.391135Z"
    }
   },
   "outputs": [],
   "source": [
    "current= {\n",
    "    \"wickets\":1,\n",
    "    \"balls_left\" :105,\n",
    "    \"runs_left\":137\n",
    "}\n",
    "current_df = pd.DataFrame(current,index=[0])\n",
    "XGBC.predict_proba(current_df)"
   ]
  },
  {
   "cell_type": "markdown",
   "metadata": {},
   "source": [
    "# Making predictions with SVM "
   ]
  },
  {
   "cell_type": "code",
   "execution_count": null,
   "metadata": {
    "execution": {
     "iopub.execute_input": "2021-05-30T12:33:19.877802Z",
     "iopub.status.busy": "2021-05-30T12:33:19.877413Z",
     "iopub.status.idle": "2021-05-30T12:33:26.955756Z",
     "shell.execute_reply": "2021-05-30T12:33:26.954721Z",
     "shell.execute_reply.started": "2021-05-30T12:33:19.877770Z"
    }
   },
   "outputs": [],
   "source": [
    "# Define model\n",
    "SVC_model = svm.SVC()\n",
    "\n",
    "# Fit model\n",
    "SVC_model.fit(X_train, y_train)\n",
    "\n",
    "#Predict Output \n",
    "predicted = SVC_model.predict(X_test)\n",
    "a = accuracy_score(y_test,predicted)\n",
    "print('The accuracy using SVC Classifier is:',format(a*100))"
   ]
  },
  {
   "cell_type": "code",
   "execution_count": null,
   "metadata": {
    "execution": {
     "iopub.execute_input": "2021-05-30T13:05:07.200752Z",
     "iopub.status.busy": "2021-05-30T13:05:07.200381Z",
     "iopub.status.idle": "2021-05-30T13:05:07.230605Z",
     "shell.execute_reply": "2021-05-30T13:05:07.229592Z",
     "shell.execute_reply.started": "2021-05-30T13:05:07.200722Z"
    }
   },
   "outputs": [],
   "source": [
    "model_file = \"model.sav\"\n",
    "with open(model_file,mode='wb') as model_f:\n",
    "    pickle.dump(XGBC,model_f)"
   ]
  },
  {
   "cell_type": "code",
   "execution_count": null,
   "metadata": {
    "execution": {
     "iopub.execute_input": "2021-05-30T13:06:10.989017Z",
     "iopub.status.busy": "2021-05-30T13:06:10.988622Z",
     "iopub.status.idle": "2021-05-30T13:06:11.036934Z",
     "shell.execute_reply": "2021-05-30T13:06:11.035974Z",
     "shell.execute_reply.started": "2021-05-30T13:06:10.988984Z"
    }
   },
   "outputs": [],
   "source": [
    "with open(model_file,mode='rb') as model_f:\n",
    "    model = pickle.load(model_f)\n",
    "    result = model.score(X_test,y_test)\n",
    "    print(\"result:\",result)"
   ]
  }
 ],
 "metadata": {
  "kernelspec": {
   "display_name": "Python 3",
   "language": "python",
   "name": "python3"
  },
  "language_info": {
   "codemirror_mode": {
    "name": "ipython",
    "version": 3
   },
   "file_extension": ".py",
   "mimetype": "text/x-python",
   "name": "python",
   "nbconvert_exporter": "python",
   "pygments_lexer": "ipython3",
   "version": "3.8.3"
  }
 },
 "nbformat": 4,
 "nbformat_minor": 4
}
